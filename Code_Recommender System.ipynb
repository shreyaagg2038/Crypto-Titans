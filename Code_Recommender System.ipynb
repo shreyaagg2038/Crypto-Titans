{
 "cells": [
  {
   "cell_type": "code",
   "execution_count": 1,
   "id": "96940913",
   "metadata": {},
   "outputs": [],
   "source": [
    "import numpy as np # linear algebra\n",
    "import pandas as pd # data processing, CSV file I/O (e.g. pd.read_csv)\n",
    "import math\n",
    "import json\n",
    "import matplotlib.pyplot as plt\n",
    "import sklearn\n",
    "from sklearn.decomposition import TruncatedSVD\n",
    "\n",
    "import warnings; warnings.simplefilter('ignore')\n",
    "%matplotlib inline"
   ]
  },
  {
   "cell_type": "code",
   "execution_count": 2,
   "id": "b3a3a0f1",
   "metadata": {},
   "outputs": [
    {
     "data": {
      "text/html": [
       "<div>\n",
       "<style scoped>\n",
       "    .dataframe tbody tr th:only-of-type {\n",
       "        vertical-align: middle;\n",
       "    }\n",
       "\n",
       "    .dataframe tbody tr th {\n",
       "        vertical-align: top;\n",
       "    }\n",
       "\n",
       "    .dataframe thead th {\n",
       "        text-align: right;\n",
       "    }\n",
       "</style>\n",
       "<table border=\"1\" class=\"dataframe\">\n",
       "  <thead>\n",
       "    <tr style=\"text-align: right;\">\n",
       "      <th></th>\n",
       "      <th>customerID</th>\n",
       "      <th>orderID</th>\n",
       "      <th>Date</th>\n",
       "      <th>item</th>\n",
       "    </tr>\n",
       "  </thead>\n",
       "  <tbody>\n",
       "    <tr>\n",
       "      <th>0</th>\n",
       "      <td>1808</td>\n",
       "      <td>2810</td>\n",
       "      <td>07/06/2021</td>\n",
       "      <td>Anand Ghee</td>\n",
       "    </tr>\n",
       "    <tr>\n",
       "      <th>1</th>\n",
       "      <td>1808</td>\n",
       "      <td>2810</td>\n",
       "      <td>07/06/2021</td>\n",
       "      <td>Ashirvaad Aata</td>\n",
       "    </tr>\n",
       "    <tr>\n",
       "      <th>2</th>\n",
       "      <td>1808</td>\n",
       "      <td>2810</td>\n",
       "      <td>07/06/2021</td>\n",
       "      <td>tea</td>\n",
       "    </tr>\n",
       "    <tr>\n",
       "      <th>3</th>\n",
       "      <td>1808</td>\n",
       "      <td>2810</td>\n",
       "      <td>07/06/2021</td>\n",
       "      <td>bottled water</td>\n",
       "    </tr>\n",
       "    <tr>\n",
       "      <th>4</th>\n",
       "      <td>1808</td>\n",
       "      <td>2810</td>\n",
       "      <td>07/06/2021</td>\n",
       "      <td>instant coffee</td>\n",
       "    </tr>\n",
       "  </tbody>\n",
       "</table>\n",
       "</div>"
      ],
      "text/plain": [
       "   customerID  orderID        Date            item\n",
       "0        1808     2810  07/06/2021      Anand Ghee\n",
       "1        1808     2810  07/06/2021  Ashirvaad Aata\n",
       "2        1808     2810  07/06/2021             tea\n",
       "3        1808     2810  07/06/2021   bottled water\n",
       "4        1808     2810  07/06/2021  instant coffee"
      ]
     },
     "execution_count": 2,
     "metadata": {},
     "output_type": "execute_result"
    }
   ],
   "source": [
    "orders_data=pd.read_csv(\"Orders.csv\")\n",
    "orders_data=orders_data.drop(columns=['Unnamed: 0'])\n",
    "orders_data.head()"
   ]
  },
  {
   "cell_type": "code",
   "execution_count": 3,
   "id": "a62f9b67",
   "metadata": {},
   "outputs": [
    {
     "name": "stdout",
     "output_type": "stream",
     "text": [
      "['shopping bags', 'Anand Ghee', 'tea', 'frozen fruits', 'instant coffee', 'waffles']\n"
     ]
    }
   ],
   "source": [
    "#Finding which day of month they bought what and then recommending items which were bought more than once.\n",
    "orders_data['Day']=orders_data['Date'].str[0:2]\n",
    "orders_data[\"Day\"] = pd.to_numeric(orders_data[\"Day\"])\n",
    "cID=1808\n",
    "d=5\n",
    "    \n",
    "df=pd.DataFrame(orders_data.loc[(orders_data['Day']>=d-5) & (orders_data['Day']<=d+5) & (orders_data['customerID']==cID)])\n",
    "bool_series=df[\"item\"].duplicated()\n",
    "time_of_visit=df[bool_series]['item'].unique().tolist()\n",
    "print(time_of_visit)"
   ]
  },
  {
   "cell_type": "code",
   "execution_count": 4,
   "id": "fe9e8e78",
   "metadata": {},
   "outputs": [
    {
     "data": {
      "text/plain": [
       "['shopping bags',\n",
       " 'Anand Ghee',\n",
       " 'tea',\n",
       " 'frozen fruits',\n",
       " 'instant coffee',\n",
       " 'waffles',\n",
       " 'hamburger meat',\n",
       " 'specialty fat',\n",
       " 'Cornflakes']"
      ]
     },
     "execution_count": 4,
     "metadata": {},
     "output_type": "execute_result"
    }
   ],
   "source": [
    "#Recommending items that were bought more than once.\n",
    "new_df=pd.DataFrame(orders_data.loc[(orders_data['customerID']==cID)])\n",
    "bool_s=new_df[\"item\"].duplicated()\n",
    "past_orders=new_df[bool_s]['item'].unique().tolist()\n",
    "past_orders"
   ]
  },
  {
   "cell_type": "code",
   "execution_count": 5,
   "id": "a6a56885",
   "metadata": {},
   "outputs": [
    {
     "data": {
      "text/plain": [
       "['Dhara refined Sunflower oil',\n",
       " 'Maggie',\n",
       " 'cleaner',\n",
       " 'frozen dessert',\n",
       " 'fruit/vegetable juice',\n",
       " 'hamburger meat',\n",
       " 'meat spreads',\n",
       " 'mustard',\n",
       " 'photo/film',\n",
       " 'processed cheese',\n",
       " 'specialty cheese',\n",
       " 'specialty fat',\n",
       " 'tea',\n",
       " 'waffles']"
      ]
     },
     "execution_count": 5,
     "metadata": {},
     "output_type": "execute_result"
    }
   ],
   "source": [
    "#Recommending similar items \n",
    "count_products = pd.DataFrame(orders_data.groupby('item')['orderID'].count())\n",
    "count_products = count_products.sort_values('orderID', ascending=False)\n",
    "count_products.rename(columns = {'orderID':'count'}, inplace = True)\n",
    "C = count_products['count'].sum()\n",
    "\n",
    "def rating(x, C=C):\n",
    "    v = x['count']\n",
    "    return v*100/C\n",
    "\n",
    "count_products['rating_calculated']=count_products.apply(rating, axis=1)\n",
    "\n",
    "merged_inner = pd.merge(left=orders_data, right=count_products, left_on='item', right_on='item')\n",
    "\n",
    "ratings_utility_matrix = merged_inner.pivot_table(values='rating_calculated', index='customerID', columns='item', fill_value=0)\n",
    "\n",
    "X = ratings_utility_matrix.T\n",
    "\n",
    "X1 = X\n",
    "\n",
    "SVD = TruncatedSVD(n_components=10)\n",
    "decomposed_matrix = SVD.fit_transform(X)\n",
    "correlation_matrix = np.corrcoef(decomposed_matrix)\n",
    "i = \"berries\"\n",
    "\n",
    "product_names = list(X.index)\n",
    "item = product_names.index(i)\n",
    "\n",
    "correlation_product_ID = correlation_matrix[item]\n",
    "\n",
    "Recommend = list(X.index[correlation_product_ID > 0.65])\n",
    "\n",
    "# Removes the item already bought by the customer\n",
    "Recommend.remove(i) \n",
    "Recommend[0:24]\n",
    "\n"
   ]
  },
  {
   "cell_type": "code",
   "execution_count": 6,
   "id": "787fbca5",
   "metadata": {},
   "outputs": [
    {
     "data": {
      "text/plain": [
       "item\n",
       "Instant food products       24\n",
       "frozen fish                 22\n",
       "frozen fruits               22\n",
       "long life bakery product    22\n",
       "herbs                       21\n",
       "hamburger meat              20\n",
       "dish cleaner                17\n",
       "specialty fat               17\n",
       "waffles                     15\n",
       "dog food                    14\n",
       "Name: item, dtype: int64"
      ]
     },
     "execution_count": 6,
     "metadata": {},
     "output_type": "execute_result"
    }
   ],
   "source": [
    "#Calculating counts of each items bought by all customers and then sorting them in descending order.\n",
    "#Most Bought products\n",
    "most_popular = orders_data.groupby('item')['item'].count().sort_values(ascending=False)\n",
    "most_popular.head(10)"
   ]
  }
 ],
 "metadata": {
  "kernelspec": {
   "display_name": "Python 3 (ipykernel)",
   "language": "python",
   "name": "python3"
  },
  "language_info": {
   "codemirror_mode": {
    "name": "ipython",
    "version": 3
   },
   "file_extension": ".py",
   "mimetype": "text/x-python",
   "name": "python",
   "nbconvert_exporter": "python",
   "pygments_lexer": "ipython3",
   "version": "3.9.7"
  }
 },
 "nbformat": 4,
 "nbformat_minor": 5
}
