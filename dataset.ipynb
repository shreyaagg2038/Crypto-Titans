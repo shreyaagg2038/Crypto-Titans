{
 "cells": [
  {
   "cell_type": "code",
   "execution_count": 1,
   "metadata": {},
   "outputs": [],
   "source": [
    "import pandas as pd\n",
    "import numpy as np\n",
    "import random \n",
    "import time"
   ]
  },
  {
   "cell_type": "code",
   "execution_count": 2,
   "metadata": {},
   "outputs": [],
   "source": [
    "df=pd.read_csv('Groceries_dataset.csv')"
   ]
  },
  {
   "cell_type": "code",
   "execution_count": 3,
   "metadata": {},
   "outputs": [],
   "source": [
    "data=pd.DataFrame(df)\n",
    "item=data.itemDescription.unique()\n",
    "items=[]\n",
    "for k in range(73):\n",
    "    items.append(random.choice(item))\n",
    "items.extend(['Maggie','Biscuit','Cornflakes','Anand Ghee','Safolla oil','Dhara refined Sunflower oil','Ashirvaad Aata'])"
   ]
  },
  {
   "cell_type": "code",
   "execution_count": 4,
   "metadata": {},
   "outputs": [
    {
     "name": "stdout",
     "output_type": "stream",
     "text": [
      "[1808 2552 2300 1187 3037 4941 4501 3803 2762 4119 1340 2193 1997 4546\n",
      " 4736 1959 1974 2421 1513 1905]\n"
     ]
    }
   ],
   "source": [
    "customerid=data.Member_number.unique()[0:20]\n",
    "print(customerid)"
   ]
  },
  {
   "cell_type": "code",
   "execution_count": 5,
   "metadata": {},
   "outputs": [
    {
     "name": "stdout",
     "output_type": "stream",
     "text": [
      "[2810 2867 3962 1088 4976 4056 3611 1420 4286 4918 4783 3709 4289 1559\n",
      " 2900 3527 1495 3558 3128 1863 3841 3903 2658 4272 1120 2676 1697 2507\n",
      " 4620 3365 2978 2910 1061 3276 1326 3023 2185 3552 1967 4708 2874 4177\n",
      " 1663 2632 1377 4162 2270 4829 3811 4766 2436 3860 4875 1587 4038 4750\n",
      " 1199 1603 3111 3894 1456 2022 2505 4851 4293 2775 3693 1202 3699 4152\n",
      " 4155 4010 4389 3746 2560 1503 2555 3645 3886 2932 1711 4291 1143 4564\n",
      " 3337 4931 2623 4581 2635 1095 2990 2426 4555 3635 3058 4391 1306 1024\n",
      " 1295 1661]\n"
     ]
    }
   ],
   "source": [
    "orderid=data.Member_number.unique()[20:120]\n",
    "print(orderid)"
   ]
  },
  {
   "cell_type": "code",
   "execution_count": 6,
   "metadata": {},
   "outputs": [],
   "source": [
    "orders={'customerid':[],'orderid':[],'date':[],'item':[]} \n",
    "\n",
    "for i in range(20):\n",
    "    for j in range(i*5,i*5+5):\n",
    "        orderno=random.randint(5,8)\n",
    "        totalitems=[]\n",
    "        for k in range(orderno):\n",
    "            totalitems.append(random.choice(items)) \n",
    "        orders['customerid'].append(customerid[i])\n",
    "        orders['orderid'].append(orderid[j])\n",
    "        orders['item'].append(totalitems) \n",
    "\n",
    "def str_time_prop(start, end, time_format, prop):\n",
    "    stime = time.mktime(time.strptime(start, time_format))\n",
    "    etime = time.mktime(time.strptime(end, time_format))\n",
    "\n",
    "    ptime = stime + prop * (etime - stime)\n",
    "\n",
    "    return time.strftime(time_format, time.localtime(ptime))\n",
    "\n",
    "\n",
    "def random_date(start, end, prop):\n",
    "    return str_time_prop(start, end, '%d/%m/%Y', prop)\n",
    "   \n",
    "for i in range(100):\n",
    "    orders['date'].append((random_date(\"1/3/2021\", \"20/9/2021\", random.random())))\n",
    "\n",
    "orderdata=pd.DataFrame(orders)\n",
    "orderdata.to_csv('Orders.csv',index='False')\n"
   ]
  },
  {
   "cell_type": "code",
   "execution_count": null,
   "metadata": {},
   "outputs": [],
   "source": []
  }
 ],
 "metadata": {
  "kernelspec": {
   "display_name": "Python 3",
   "language": "python",
   "name": "python3"
  },
  "language_info": {
   "codemirror_mode": {
    "name": "ipython",
    "version": 3
   },
   "file_extension": ".py",
   "mimetype": "text/x-python",
   "name": "python",
   "nbconvert_exporter": "python",
   "pygments_lexer": "ipython3",
   "version": "3.7.3"
  }
 },
 "nbformat": 4,
 "nbformat_minor": 5
}
